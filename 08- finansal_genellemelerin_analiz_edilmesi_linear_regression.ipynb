{
 "cells": [
  {
   "cell_type": "markdown",
   "id": "4dcff0c2",
   "metadata": {},
   "source": [
    "### Finansal Genellemelerin Analiz Edilmesi | Doğrusal Regresyon"
   ]
  },
  {
   "cell_type": "code",
   "execution_count": 1,
   "id": "a7c8ac3f",
   "metadata": {},
   "outputs": [],
   "source": [
    "# Gerekli kütüphane ve fonksiyonların kurulması\n",
    "\n",
    "import numpy as np\n",
    "import pandas as pd\n",
    "import matplotlib.pyplot as plt\n",
    "import seaborn as sns\n",
    "\n",
    "import yfinance as yf\n",
    "import missingno as msno\n",
    "\n",
    "import scipy.stats\n",
    "import statsmodels.api as sm\n",
    "\n",
    "from termcolor import colored\n",
    "from statsmodels.stats.diagnostic import normal_ad\n",
    "from statsmodels.stats.outliers_influence import variance_inflation_factor\n",
    "from statsmodels.stats.stattools import durbin_watson\n",
    "from statsmodels.stats.diagnostic import het_breuschpagan\n",
    "\n",
    "from sklearn.model_selection import train_test_split\n",
    "from sklearn.preprocessing import MinMaxScaler\n",
    "\n",
    "import warnings\n",
    "warnings.filterwarnings(\"ignore\")"
   ]
  },
  {
   "cell_type": "markdown",
   "id": "fc1cc470",
   "metadata": {},
   "source": [
    "#### Import Data"
   ]
  },
  {
   "cell_type": "code",
   "execution_count": 2,
   "id": "5058743e",
   "metadata": {},
   "outputs": [
    {
     "data": {
      "text/html": [
       "<div>\n",
       "<style scoped>\n",
       "    .dataframe tbody tr th:only-of-type {\n",
       "        vertical-align: middle;\n",
       "    }\n",
       "\n",
       "    .dataframe tbody tr th {\n",
       "        vertical-align: top;\n",
       "    }\n",
       "\n",
       "    .dataframe thead tr th {\n",
       "        text-align: left;\n",
       "    }\n",
       "\n",
       "    .dataframe thead tr:last-of-type th {\n",
       "        text-align: right;\n",
       "    }\n",
       "</style>\n",
       "<table border=\"1\" class=\"dataframe\">\n",
       "  <thead>\n",
       "    <tr>\n",
       "      <th>Price</th>\n",
       "      <th colspan=\"7\" halign=\"left\">Adj Close</th>\n",
       "      <th colspan=\"3\" halign=\"left\">Close</th>\n",
       "      <th>...</th>\n",
       "      <th colspan=\"3\" halign=\"left\">Open</th>\n",
       "      <th colspan=\"7\" halign=\"left\">Volume</th>\n",
       "    </tr>\n",
       "    <tr>\n",
       "      <th>Ticker</th>\n",
       "      <th>DAX</th>\n",
       "      <th>EURTRY=X</th>\n",
       "      <th>GBPTRY=X</th>\n",
       "      <th>GC=F</th>\n",
       "      <th>TRY=X</th>\n",
       "      <th>XU100.IS</th>\n",
       "      <th>^GSPC</th>\n",
       "      <th>DAX</th>\n",
       "      <th>EURTRY=X</th>\n",
       "      <th>GBPTRY=X</th>\n",
       "      <th>...</th>\n",
       "      <th>TRY=X</th>\n",
       "      <th>XU100.IS</th>\n",
       "      <th>^GSPC</th>\n",
       "      <th>DAX</th>\n",
       "      <th>EURTRY=X</th>\n",
       "      <th>GBPTRY=X</th>\n",
       "      <th>GC=F</th>\n",
       "      <th>TRY=X</th>\n",
       "      <th>XU100.IS</th>\n",
       "      <th>^GSPC</th>\n",
       "    </tr>\n",
       "    <tr>\n",
       "      <th>Date</th>\n",
       "      <th></th>\n",
       "      <th></th>\n",
       "      <th></th>\n",
       "      <th></th>\n",
       "      <th></th>\n",
       "      <th></th>\n",
       "      <th></th>\n",
       "      <th></th>\n",
       "      <th></th>\n",
       "      <th></th>\n",
       "      <th></th>\n",
       "      <th></th>\n",
       "      <th></th>\n",
       "      <th></th>\n",
       "      <th></th>\n",
       "      <th></th>\n",
       "      <th></th>\n",
       "      <th></th>\n",
       "      <th></th>\n",
       "      <th></th>\n",
       "      <th></th>\n",
       "    </tr>\n",
       "  </thead>\n",
       "  <tbody>\n",
       "    <tr>\n",
       "      <th>2015-01-01</th>\n",
       "      <td>NaN</td>\n",
       "      <td>2.82487</td>\n",
       "      <td>3.6379</td>\n",
       "      <td>NaN</td>\n",
       "      <td>2.33116</td>\n",
       "      <td>NaN</td>\n",
       "      <td>NaN</td>\n",
       "      <td>NaN</td>\n",
       "      <td>2.82487</td>\n",
       "      <td>3.6379</td>\n",
       "      <td>...</td>\n",
       "      <td>2.33116</td>\n",
       "      <td>NaN</td>\n",
       "      <td>NaN</td>\n",
       "      <td>NaN</td>\n",
       "      <td>0</td>\n",
       "      <td>0</td>\n",
       "      <td>NaN</td>\n",
       "      <td>0</td>\n",
       "      <td>NaN</td>\n",
       "      <td>NaN</td>\n",
       "    </tr>\n",
       "    <tr>\n",
       "      <th>2015-01-02</th>\n",
       "      <td>21.189384</td>\n",
       "      <td>2.81987</td>\n",
       "      <td>3.6338</td>\n",
       "      <td>1186.000000</td>\n",
       "      <td>2.33098</td>\n",
       "      <td>85458.898438</td>\n",
       "      <td>2058.199951</td>\n",
       "      <td>26.163000</td>\n",
       "      <td>2.81987</td>\n",
       "      <td>3.6338</td>\n",
       "      <td>...</td>\n",
       "      <td>2.33098</td>\n",
       "      <td>85447.898438</td>\n",
       "      <td>2058.899902</td>\n",
       "      <td>0.0</td>\n",
       "      <td>0</td>\n",
       "      <td>0</td>\n",
       "      <td>138.0</td>\n",
       "      <td>0</td>\n",
       "      <td>328037000.0</td>\n",
       "      <td>2.708700e+09</td>\n",
       "    </tr>\n",
       "    <tr>\n",
       "      <th>2015-01-05</th>\n",
       "      <td>20.150284</td>\n",
       "      <td>2.79728</td>\n",
       "      <td>3.5788</td>\n",
       "      <td>1203.900024</td>\n",
       "      <td>2.34224</td>\n",
       "      <td>86462.601562</td>\n",
       "      <td>2020.579956</td>\n",
       "      <td>24.879999</td>\n",
       "      <td>2.79728</td>\n",
       "      <td>3.5788</td>\n",
       "      <td>...</td>\n",
       "      <td>2.34224</td>\n",
       "      <td>85495.296875</td>\n",
       "      <td>2054.439941</td>\n",
       "      <td>2700.0</td>\n",
       "      <td>0</td>\n",
       "      <td>0</td>\n",
       "      <td>470.0</td>\n",
       "      <td>0</td>\n",
       "      <td>644588000.0</td>\n",
       "      <td>3.799120e+09</td>\n",
       "    </tr>\n",
       "    <tr>\n",
       "      <th>2015-01-06</th>\n",
       "      <td>20.150284</td>\n",
       "      <td>2.78208</td>\n",
       "      <td>3.5559</td>\n",
       "      <td>1219.300049</td>\n",
       "      <td>2.33075</td>\n",
       "      <td>86909.601562</td>\n",
       "      <td>2002.609985</td>\n",
       "      <td>24.879999</td>\n",
       "      <td>2.78208</td>\n",
       "      <td>3.5559</td>\n",
       "      <td>...</td>\n",
       "      <td>2.33075</td>\n",
       "      <td>86650.898438</td>\n",
       "      <td>2022.150024</td>\n",
       "      <td>0.0</td>\n",
       "      <td>0</td>\n",
       "      <td>0</td>\n",
       "      <td>97.0</td>\n",
       "      <td>0</td>\n",
       "      <td>698321000.0</td>\n",
       "      <td>4.460110e+09</td>\n",
       "    </tr>\n",
       "    <tr>\n",
       "      <th>2015-01-07</th>\n",
       "      <td>20.150284</td>\n",
       "      <td>2.75848</td>\n",
       "      <td>3.5162</td>\n",
       "      <td>1210.599976</td>\n",
       "      <td>2.32361</td>\n",
       "      <td>86776.601562</td>\n",
       "      <td>2025.900024</td>\n",
       "      <td>24.879999</td>\n",
       "      <td>2.75848</td>\n",
       "      <td>3.5162</td>\n",
       "      <td>...</td>\n",
       "      <td>2.32474</td>\n",
       "      <td>86925.101562</td>\n",
       "      <td>2005.550049</td>\n",
       "      <td>100.0</td>\n",
       "      <td>0</td>\n",
       "      <td>0</td>\n",
       "      <td>29.0</td>\n",
       "      <td>0</td>\n",
       "      <td>791949000.0</td>\n",
       "      <td>3.805480e+09</td>\n",
       "    </tr>\n",
       "  </tbody>\n",
       "</table>\n",
       "<p>5 rows × 42 columns</p>\n",
       "</div>"
      ],
      "text/plain": [
       "Price       Adj Close                                                        \\\n",
       "Ticker            DAX EURTRY=X GBPTRY=X         GC=F    TRY=X      XU100.IS   \n",
       "Date                                                                          \n",
       "2015-01-01        NaN  2.82487   3.6379          NaN  2.33116           NaN   \n",
       "2015-01-02  21.189384  2.81987   3.6338  1186.000000  2.33098  85458.898438   \n",
       "2015-01-05  20.150284  2.79728   3.5788  1203.900024  2.34224  86462.601562   \n",
       "2015-01-06  20.150284  2.78208   3.5559  1219.300049  2.33075  86909.601562   \n",
       "2015-01-07  20.150284  2.75848   3.5162  1210.599976  2.32361  86776.601562   \n",
       "\n",
       "Price                        Close                    ...     Open  \\\n",
       "Ticker            ^GSPC        DAX EURTRY=X GBPTRY=X  ...    TRY=X   \n",
       "Date                                                  ...            \n",
       "2015-01-01          NaN        NaN  2.82487   3.6379  ...  2.33116   \n",
       "2015-01-02  2058.199951  26.163000  2.81987   3.6338  ...  2.33098   \n",
       "2015-01-05  2020.579956  24.879999  2.79728   3.5788  ...  2.34224   \n",
       "2015-01-06  2002.609985  24.879999  2.78208   3.5559  ...  2.33075   \n",
       "2015-01-07  2025.900024  24.879999  2.75848   3.5162  ...  2.32474   \n",
       "\n",
       "Price                                  Volume                                 \\\n",
       "Ticker          XU100.IS        ^GSPC     DAX EURTRY=X GBPTRY=X   GC=F TRY=X   \n",
       "Date                                                                           \n",
       "2015-01-01           NaN          NaN     NaN        0        0    NaN     0   \n",
       "2015-01-02  85447.898438  2058.899902     0.0        0        0  138.0     0   \n",
       "2015-01-05  85495.296875  2054.439941  2700.0        0        0  470.0     0   \n",
       "2015-01-06  86650.898438  2022.150024     0.0        0        0   97.0     0   \n",
       "2015-01-07  86925.101562  2005.550049   100.0        0        0   29.0     0   \n",
       "\n",
       "Price                                  \n",
       "Ticker         XU100.IS         ^GSPC  \n",
       "Date                                   \n",
       "2015-01-01          NaN           NaN  \n",
       "2015-01-02  328037000.0  2.708700e+09  \n",
       "2015-01-05  644588000.0  3.799120e+09  \n",
       "2015-01-06  698321000.0  4.460110e+09  \n",
       "2015-01-07  791949000.0  3.805480e+09  \n",
       "\n",
       "[5 rows x 42 columns]"
      ]
     },
     "execution_count": 2,
     "metadata": {},
     "output_type": "execute_result"
    }
   ],
   "source": [
    "tickers = [\"TRY=X\", \"EURTRY=X\", \"GBPTRY=X\", \"XU100.IS\", \"DAX\", \"GC=F\", \"^GSPC\"]\n",
    "\n",
    "start_date = '2015-01-01'\n",
    "\n",
    "end_date = '2017-01-01'\n",
    "\n",
    "panel_data = yf.download(tickers, start = start_date, end = end_date, progress = False)\n",
    "\n",
    "panel_data.head()"
   ]
  },
  {
   "cell_type": "code",
   "execution_count": 3,
   "id": "01d121d6",
   "metadata": {},
   "outputs": [
    {
     "data": {
      "text/plain": [
       "(522, 42)"
      ]
     },
     "execution_count": 3,
     "metadata": {},
     "output_type": "execute_result"
    }
   ],
   "source": [
    "panel_data.shape"
   ]
  },
  {
   "cell_type": "code",
   "execution_count": 4,
   "id": "45817bf6",
   "metadata": {},
   "outputs": [
    {
     "data": {
      "text/html": [
       "<div>\n",
       "<style scoped>\n",
       "    .dataframe tbody tr th:only-of-type {\n",
       "        vertical-align: middle;\n",
       "    }\n",
       "\n",
       "    .dataframe tbody tr th {\n",
       "        vertical-align: top;\n",
       "    }\n",
       "\n",
       "    .dataframe thead th {\n",
       "        text-align: right;\n",
       "    }\n",
       "</style>\n",
       "<table border=\"1\" class=\"dataframe\">\n",
       "  <thead>\n",
       "    <tr style=\"text-align: right;\">\n",
       "      <th>Ticker</th>\n",
       "      <th>Date</th>\n",
       "      <th>DAX</th>\n",
       "      <th>EURTRY=X</th>\n",
       "      <th>GBPTRY=X</th>\n",
       "      <th>GC=F</th>\n",
       "      <th>TRY=X</th>\n",
       "      <th>XU100.IS</th>\n",
       "      <th>^GSPC</th>\n",
       "    </tr>\n",
       "  </thead>\n",
       "  <tbody>\n",
       "    <tr>\n",
       "      <th>0</th>\n",
       "      <td>2015-01-01</td>\n",
       "      <td>NaN</td>\n",
       "      <td>2.82487</td>\n",
       "      <td>3.6379</td>\n",
       "      <td>NaN</td>\n",
       "      <td>2.33116</td>\n",
       "      <td>NaN</td>\n",
       "      <td>NaN</td>\n",
       "    </tr>\n",
       "    <tr>\n",
       "      <th>1</th>\n",
       "      <td>2015-01-02</td>\n",
       "      <td>26.163000</td>\n",
       "      <td>2.81987</td>\n",
       "      <td>3.6338</td>\n",
       "      <td>1186.000000</td>\n",
       "      <td>2.33098</td>\n",
       "      <td>85458.898438</td>\n",
       "      <td>2058.199951</td>\n",
       "    </tr>\n",
       "    <tr>\n",
       "      <th>2</th>\n",
       "      <td>2015-01-05</td>\n",
       "      <td>24.879999</td>\n",
       "      <td>2.79728</td>\n",
       "      <td>3.5788</td>\n",
       "      <td>1203.900024</td>\n",
       "      <td>2.34224</td>\n",
       "      <td>86462.601562</td>\n",
       "      <td>2020.579956</td>\n",
       "    </tr>\n",
       "    <tr>\n",
       "      <th>3</th>\n",
       "      <td>2015-01-06</td>\n",
       "      <td>24.879999</td>\n",
       "      <td>2.78208</td>\n",
       "      <td>3.5559</td>\n",
       "      <td>1219.300049</td>\n",
       "      <td>2.33075</td>\n",
       "      <td>86909.601562</td>\n",
       "      <td>2002.609985</td>\n",
       "    </tr>\n",
       "    <tr>\n",
       "      <th>4</th>\n",
       "      <td>2015-01-07</td>\n",
       "      <td>24.879999</td>\n",
       "      <td>2.75848</td>\n",
       "      <td>3.5162</td>\n",
       "      <td>1210.599976</td>\n",
       "      <td>2.32361</td>\n",
       "      <td>86776.601562</td>\n",
       "      <td>2025.900024</td>\n",
       "    </tr>\n",
       "  </tbody>\n",
       "</table>\n",
       "</div>"
      ],
      "text/plain": [
       "Ticker       Date        DAX  EURTRY=X  GBPTRY=X         GC=F    TRY=X  \\\n",
       "0      2015-01-01        NaN   2.82487    3.6379          NaN  2.33116   \n",
       "1      2015-01-02  26.163000   2.81987    3.6338  1186.000000  2.33098   \n",
       "2      2015-01-05  24.879999   2.79728    3.5788  1203.900024  2.34224   \n",
       "3      2015-01-06  24.879999   2.78208    3.5559  1219.300049  2.33075   \n",
       "4      2015-01-07  24.879999   2.75848    3.5162  1210.599976  2.32361   \n",
       "\n",
       "Ticker      XU100.IS        ^GSPC  \n",
       "0                NaN          NaN  \n",
       "1       85458.898438  2058.199951  \n",
       "2       86462.601562  2020.579956  \n",
       "3       86909.601562  2002.609985  \n",
       "4       86776.601562  2025.900024  "
      ]
     },
     "execution_count": 4,
     "metadata": {},
     "output_type": "execute_result"
    }
   ],
   "source": [
    "df = panel_data[\"Close\"].reset_index()\n",
    "\n",
    "df.head()"
   ]
  },
  {
   "cell_type": "code",
   "execution_count": 5,
   "id": "f962f450",
   "metadata": {},
   "outputs": [
    {
     "data": {
      "text/plain": [
       "(522, 8)"
      ]
     },
     "execution_count": 5,
     "metadata": {},
     "output_type": "execute_result"
    }
   ],
   "source": [
    "df.shape"
   ]
  },
  {
   "cell_type": "code",
   "execution_count": 6,
   "id": "ebe87015",
   "metadata": {},
   "outputs": [
    {
     "data": {
      "text/html": [
       "<div>\n",
       "<style scoped>\n",
       "    .dataframe tbody tr th:only-of-type {\n",
       "        vertical-align: middle;\n",
       "    }\n",
       "\n",
       "    .dataframe tbody tr th {\n",
       "        vertical-align: top;\n",
       "    }\n",
       "\n",
       "    .dataframe thead th {\n",
       "        text-align: right;\n",
       "    }\n",
       "</style>\n",
       "<table border=\"1\" class=\"dataframe\">\n",
       "  <thead>\n",
       "    <tr style=\"text-align: right;\">\n",
       "      <th>Ticker</th>\n",
       "      <th>Date</th>\n",
       "      <th>DAX</th>\n",
       "      <th>EUR_TRY</th>\n",
       "      <th>GDP_TRY</th>\n",
       "      <th>GOLD</th>\n",
       "      <th>USD_TRY</th>\n",
       "      <th>BIST100</th>\n",
       "      <th>SP500</th>\n",
       "    </tr>\n",
       "  </thead>\n",
       "  <tbody>\n",
       "    <tr>\n",
       "      <th>0</th>\n",
       "      <td>2015-01-01</td>\n",
       "      <td>NaN</td>\n",
       "      <td>2.82487</td>\n",
       "      <td>3.6379</td>\n",
       "      <td>NaN</td>\n",
       "      <td>2.33116</td>\n",
       "      <td>NaN</td>\n",
       "      <td>NaN</td>\n",
       "    </tr>\n",
       "    <tr>\n",
       "      <th>1</th>\n",
       "      <td>2015-01-02</td>\n",
       "      <td>26.163000</td>\n",
       "      <td>2.81987</td>\n",
       "      <td>3.6338</td>\n",
       "      <td>1186.000000</td>\n",
       "      <td>2.33098</td>\n",
       "      <td>85458.898438</td>\n",
       "      <td>2058.199951</td>\n",
       "    </tr>\n",
       "    <tr>\n",
       "      <th>2</th>\n",
       "      <td>2015-01-05</td>\n",
       "      <td>24.879999</td>\n",
       "      <td>2.79728</td>\n",
       "      <td>3.5788</td>\n",
       "      <td>1203.900024</td>\n",
       "      <td>2.34224</td>\n",
       "      <td>86462.601562</td>\n",
       "      <td>2020.579956</td>\n",
       "    </tr>\n",
       "    <tr>\n",
       "      <th>3</th>\n",
       "      <td>2015-01-06</td>\n",
       "      <td>24.879999</td>\n",
       "      <td>2.78208</td>\n",
       "      <td>3.5559</td>\n",
       "      <td>1219.300049</td>\n",
       "      <td>2.33075</td>\n",
       "      <td>86909.601562</td>\n",
       "      <td>2002.609985</td>\n",
       "    </tr>\n",
       "    <tr>\n",
       "      <th>4</th>\n",
       "      <td>2015-01-07</td>\n",
       "      <td>24.879999</td>\n",
       "      <td>2.75848</td>\n",
       "      <td>3.5162</td>\n",
       "      <td>1210.599976</td>\n",
       "      <td>2.32361</td>\n",
       "      <td>86776.601562</td>\n",
       "      <td>2025.900024</td>\n",
       "    </tr>\n",
       "  </tbody>\n",
       "</table>\n",
       "</div>"
      ],
      "text/plain": [
       "Ticker       Date        DAX  EUR_TRY  GDP_TRY         GOLD  USD_TRY  \\\n",
       "0      2015-01-01        NaN  2.82487   3.6379          NaN  2.33116   \n",
       "1      2015-01-02  26.163000  2.81987   3.6338  1186.000000  2.33098   \n",
       "2      2015-01-05  24.879999  2.79728   3.5788  1203.900024  2.34224   \n",
       "3      2015-01-06  24.879999  2.78208   3.5559  1219.300049  2.33075   \n",
       "4      2015-01-07  24.879999  2.75848   3.5162  1210.599976  2.32361   \n",
       "\n",
       "Ticker       BIST100        SP500  \n",
       "0                NaN          NaN  \n",
       "1       85458.898438  2058.199951  \n",
       "2       86462.601562  2020.579956  \n",
       "3       86909.601562  2002.609985  \n",
       "4       86776.601562  2025.900024  "
      ]
     },
     "execution_count": 6,
     "metadata": {},
     "output_type": "execute_result"
    }
   ],
   "source": [
    "df.rename(columns = {\"TRY=X\"    : \"USD_TRY\",\n",
    "                     \"EURTRY=X\" : \"EUR_TRY\",\n",
    "                     \"GBPTRY=X\" : \"GDP_TRY\",\n",
    "                     \"XU100.IS\" : \"BIST100\",\n",
    "                     \"DAX\"      : \"DAX\",\n",
    "                     \"GC=F\"     : \"GOLD\",\n",
    "                     \"^GSPC\"    : \"SP500\"}, inplace = True)\n",
    "\n",
    "df.head()"
   ]
  },
  {
   "cell_type": "markdown",
   "id": "70cbd73b",
   "metadata": {},
   "source": [
    "#### NA Operations\n"
   ]
  },
  {
   "cell_type": "code",
   "execution_count": 7,
   "id": "df2d4581",
   "metadata": {},
   "outputs": [
    {
     "data": {
      "text/plain": [
       "Ticker\n",
       "Date        0\n",
       "DAX        18\n",
       "EUR_TRY     0\n",
       "GDP_TRY     0\n",
       "GOLD       20\n",
       "USD_TRY     0\n",
       "BIST100    18\n",
       "SP500      18\n",
       "dtype: int64"
      ]
     },
     "execution_count": 7,
     "metadata": {},
     "output_type": "execute_result"
    }
   ],
   "source": [
    "df.isnull().sum()"
   ]
  },
  {
   "cell_type": "code",
   "execution_count": 8,
   "id": "ae51fd02",
   "metadata": {},
   "outputs": [
    {
     "data": {
      "text/plain": [
       "Ticker\n",
       "Date       0\n",
       "DAX        0\n",
       "EUR_TRY    0\n",
       "GDP_TRY    0\n",
       "GOLD       0\n",
       "USD_TRY    0\n",
       "BIST100    0\n",
       "SP500      0\n",
       "dtype: int64"
      ]
     },
     "execution_count": 8,
     "metadata": {},
     "output_type": "execute_result"
    }
   ],
   "source": [
    "df.fillna(method = 'bfill', inplace = True)\n",
    "\n",
    "df.isnull().sum()"
   ]
  },
  {
   "cell_type": "code",
   "execution_count": 9,
   "id": "c300a7c9",
   "metadata": {},
   "outputs": [
    {
     "data": {
      "text/plain": [
       "Ticker\n",
       "Date       0\n",
       "DAX        0\n",
       "EUR_TRY    0\n",
       "GDP_TRY    0\n",
       "GOLD       0\n",
       "USD_TRY    0\n",
       "BIST100    0\n",
       "SP500      0\n",
       "dtype: int64"
      ]
     },
     "execution_count": 9,
     "metadata": {},
     "output_type": "execute_result"
    }
   ],
   "source": [
    "df.dropna(inplace = True)\n",
    "\n",
    "df.isnull().sum()"
   ]
  },
  {
   "cell_type": "markdown",
   "id": "9238a762",
   "metadata": {},
   "source": [
    "#### Linear Regression"
   ]
  },
  {
   "cell_type": "code",
   "execution_count": 10,
   "id": "a01284c4",
   "metadata": {},
   "outputs": [],
   "source": [
    "from sklearn.linear_model import LinearRegression"
   ]
  },
  {
   "cell_type": "code",
   "execution_count": 11,
   "id": "4ae1f851",
   "metadata": {},
   "outputs": [],
   "source": [
    "model = LinearRegression()"
   ]
  },
  {
   "cell_type": "code",
   "execution_count": 12,
   "id": "a25a2c65",
   "metadata": {},
   "outputs": [],
   "source": [
    "y = df[\"BIST100\"]\n",
    "\n",
    "x = df[[\"USD_TRY\", \"DAX\", \"GOLD\", \"SP500\"]]"
   ]
  },
  {
   "cell_type": "code",
   "execution_count": 13,
   "id": "a0279842",
   "metadata": {},
   "outputs": [],
   "source": [
    "model_lr = model.fit(x, y)"
   ]
  },
  {
   "cell_type": "code",
   "execution_count": 14,
   "id": "9377f4b0",
   "metadata": {},
   "outputs": [
    {
     "data": {
      "text/plain": [
       "65251.7493764357"
      ]
     },
     "execution_count": 14,
     "metadata": {},
     "output_type": "execute_result"
    }
   ],
   "source": [
    "model_lr.intercept_"
   ]
  },
  {
   "cell_type": "code",
   "execution_count": 15,
   "id": "ba782c9f",
   "metadata": {},
   "outputs": [
    {
     "name": "stdout",
     "output_type": "stream",
     "text": [
      "-14041.0419\n"
     ]
    }
   ],
   "source": [
    "# USD_TRY'deki 1 birimlik artış, BIST100 hissesinde ortalama 14041 birimlik bir azalışa tekabül edebilir.\n",
    "\n",
    "print(-1.40410419e+04)"
   ]
  },
  {
   "cell_type": "code",
   "execution_count": 16,
   "id": "a7c38e33",
   "metadata": {},
   "outputs": [
    {
     "name": "stdout",
     "output_type": "stream",
     "text": [
      "Coefficients: [-1.40410419e+04  1.95705822e+02  4.99063206e+00  2.07073288e+01]\n",
      "Intercept: 65251.7493764357\n",
      "R^2 Score: 0.6798458012958984\n"
     ]
    }
   ],
   "source": [
    "print(f'Coefficients: {model_lr.coef_}')\n",
    "\n",
    "print(f'Intercept: {model_lr.intercept_}')\n",
    "\n",
    "print(f'R^2 Score: {model_lr.score(x, y)}')"
   ]
  },
  {
   "cell_type": "markdown",
   "id": "a8949faa",
   "metadata": {},
   "source": [
    "**Not:** R^2 değeri, bizim model içerisine koyduğumuz bağımsız değişkenlerin bağımlı değişken üzerindeki açıklayıcılığını ifade etmektedir.  "
   ]
  },
  {
   "cell_type": "markdown",
   "id": "d179f7ab",
   "metadata": {},
   "source": [
    "#### Data Splitting"
   ]
  },
  {
   "cell_type": "code",
   "execution_count": 17,
   "id": "32672635",
   "metadata": {},
   "outputs": [],
   "source": [
    "df.reset_index(inplace = True)"
   ]
  },
  {
   "cell_type": "code",
   "execution_count": 18,
   "id": "f12ee35c",
   "metadata": {},
   "outputs": [
    {
     "data": {
      "text/html": [
       "<div>\n",
       "<style scoped>\n",
       "    .dataframe tbody tr th:only-of-type {\n",
       "        vertical-align: middle;\n",
       "    }\n",
       "\n",
       "    .dataframe tbody tr th {\n",
       "        vertical-align: top;\n",
       "    }\n",
       "\n",
       "    .dataframe thead th {\n",
       "        text-align: right;\n",
       "    }\n",
       "</style>\n",
       "<table border=\"1\" class=\"dataframe\">\n",
       "  <thead>\n",
       "    <tr style=\"text-align: right;\">\n",
       "      <th>Ticker</th>\n",
       "      <th>index</th>\n",
       "      <th>Date</th>\n",
       "      <th>DAX</th>\n",
       "      <th>EUR_TRY</th>\n",
       "      <th>GDP_TRY</th>\n",
       "      <th>GOLD</th>\n",
       "      <th>USD_TRY</th>\n",
       "      <th>BIST100</th>\n",
       "      <th>SP500</th>\n",
       "    </tr>\n",
       "  </thead>\n",
       "  <tbody>\n",
       "    <tr>\n",
       "      <th>0</th>\n",
       "      <td>0</td>\n",
       "      <td>2015-01-01</td>\n",
       "      <td>26.163000</td>\n",
       "      <td>2.82487</td>\n",
       "      <td>3.6379</td>\n",
       "      <td>1186.000000</td>\n",
       "      <td>2.33116</td>\n",
       "      <td>85458.898438</td>\n",
       "      <td>2058.199951</td>\n",
       "    </tr>\n",
       "    <tr>\n",
       "      <th>1</th>\n",
       "      <td>1</td>\n",
       "      <td>2015-01-02</td>\n",
       "      <td>26.163000</td>\n",
       "      <td>2.81987</td>\n",
       "      <td>3.6338</td>\n",
       "      <td>1186.000000</td>\n",
       "      <td>2.33098</td>\n",
       "      <td>85458.898438</td>\n",
       "      <td>2058.199951</td>\n",
       "    </tr>\n",
       "    <tr>\n",
       "      <th>2</th>\n",
       "      <td>2</td>\n",
       "      <td>2015-01-05</td>\n",
       "      <td>24.879999</td>\n",
       "      <td>2.79728</td>\n",
       "      <td>3.5788</td>\n",
       "      <td>1203.900024</td>\n",
       "      <td>2.34224</td>\n",
       "      <td>86462.601562</td>\n",
       "      <td>2020.579956</td>\n",
       "    </tr>\n",
       "    <tr>\n",
       "      <th>3</th>\n",
       "      <td>3</td>\n",
       "      <td>2015-01-06</td>\n",
       "      <td>24.879999</td>\n",
       "      <td>2.78208</td>\n",
       "      <td>3.5559</td>\n",
       "      <td>1219.300049</td>\n",
       "      <td>2.33075</td>\n",
       "      <td>86909.601562</td>\n",
       "      <td>2002.609985</td>\n",
       "    </tr>\n",
       "    <tr>\n",
       "      <th>4</th>\n",
       "      <td>4</td>\n",
       "      <td>2015-01-07</td>\n",
       "      <td>24.879999</td>\n",
       "      <td>2.75848</td>\n",
       "      <td>3.5162</td>\n",
       "      <td>1210.599976</td>\n",
       "      <td>2.32361</td>\n",
       "      <td>86776.601562</td>\n",
       "      <td>2025.900024</td>\n",
       "    </tr>\n",
       "  </tbody>\n",
       "</table>\n",
       "</div>"
      ],
      "text/plain": [
       "Ticker  index       Date        DAX  EUR_TRY  GDP_TRY         GOLD  USD_TRY  \\\n",
       "0           0 2015-01-01  26.163000  2.82487   3.6379  1186.000000  2.33116   \n",
       "1           1 2015-01-02  26.163000  2.81987   3.6338  1186.000000  2.33098   \n",
       "2           2 2015-01-05  24.879999  2.79728   3.5788  1203.900024  2.34224   \n",
       "3           3 2015-01-06  24.879999  2.78208   3.5559  1219.300049  2.33075   \n",
       "4           4 2015-01-07  24.879999  2.75848   3.5162  1210.599976  2.32361   \n",
       "\n",
       "Ticker       BIST100        SP500  \n",
       "0       85458.898438  2058.199951  \n",
       "1       85458.898438  2058.199951  \n",
       "2       86462.601562  2020.579956  \n",
       "3       86909.601562  2002.609985  \n",
       "4       86776.601562  2025.900024  "
      ]
     },
     "execution_count": 18,
     "metadata": {},
     "output_type": "execute_result"
    }
   ],
   "source": [
    "df.head()"
   ]
  },
  {
   "cell_type": "code",
   "execution_count": 19,
   "id": "5b661320",
   "metadata": {},
   "outputs": [
    {
     "data": {
      "text/plain": [
       "(522, 9)"
      ]
     },
     "execution_count": 19,
     "metadata": {},
     "output_type": "execute_result"
    }
   ],
   "source": [
    "df.shape"
   ]
  },
  {
   "cell_type": "code",
   "execution_count": 20,
   "id": "4b1f56ec",
   "metadata": {},
   "outputs": [],
   "source": [
    "y = df[\"BIST100\"]\n",
    "\n",
    "x = df[[\"USD_TRY\", \"DAX\", \"GOLD\", \"SP500\"]]"
   ]
  },
  {
   "cell_type": "code",
   "execution_count": 21,
   "id": "676835f7",
   "metadata": {},
   "outputs": [],
   "source": [
    "x_train, x_test, y_train, y_test = train_test_split(x, y, test_size = 0.33, random_state = 42)"
   ]
  },
  {
   "cell_type": "code",
   "execution_count": 22,
   "id": "3fd3a7ae",
   "metadata": {},
   "outputs": [
    {
     "data": {
      "text/plain": [
       "(522, 9)"
      ]
     },
     "execution_count": 22,
     "metadata": {},
     "output_type": "execute_result"
    }
   ],
   "source": [
    "df.shape"
   ]
  },
  {
   "cell_type": "code",
   "execution_count": 23,
   "id": "48c63478",
   "metadata": {},
   "outputs": [
    {
     "data": {
      "text/plain": [
       "(349, 4)"
      ]
     },
     "execution_count": 23,
     "metadata": {},
     "output_type": "execute_result"
    }
   ],
   "source": [
    "x_train.shape"
   ]
  },
  {
   "cell_type": "code",
   "execution_count": 24,
   "id": "5ac33702",
   "metadata": {},
   "outputs": [
    {
     "data": {
      "text/plain": [
       "(173,)"
      ]
     },
     "execution_count": 24,
     "metadata": {},
     "output_type": "execute_result"
    }
   ],
   "source": [
    "y_test.shape"
   ]
  },
  {
   "cell_type": "code",
   "execution_count": 25,
   "id": "651abf1e",
   "metadata": {},
   "outputs": [
    {
     "data": {
      "text/plain": [
       "array([79835.73840821, 80734.24887803, 85768.46414087, 74527.38331885,\n",
       "       82224.1372637 , 74500.1869276 , 72770.94110679, 76758.24719101,\n",
       "       81278.27023342, 82020.69775322, 85457.83658815, 74106.15891588,\n",
       "       82323.14532534, 80194.2470493 , 76821.35817366, 82716.71710102,\n",
       "       84476.29165679, 79738.20367666, 79066.57369113, 81026.6202678 ,\n",
       "       76720.25548105, 73225.2296183 , 72901.31791559, 72447.11062726,\n",
       "       73454.41419691, 73482.21159241, 76105.03075707, 78044.33669879,\n",
       "       80150.59808842, 73937.49952617, 73286.94445532, 83348.08951937,\n",
       "       78090.81046664, 79055.95916823, 84549.32956827, 82620.14196512,\n",
       "       78715.0683124 , 83662.13328422, 85494.81543483, 82402.67530361,\n",
       "       84170.77067323, 83264.92635084, 72004.94989403, 80616.43140376,\n",
       "       72735.53896995, 73693.00198598, 83109.94535613, 77069.13019674,\n",
       "       77722.77113757, 82331.87038379, 73260.59506655, 81894.41330725,\n",
       "       80303.47964374, 72809.6231473 , 79445.77343955, 77727.50119381,\n",
       "       82262.43231417, 73463.14725201, 73982.0129872 , 79726.56170016,\n",
       "       78903.68668727, 78041.82384143, 78608.75003334, 73397.01654285,\n",
       "       83415.8644204 , 78386.07987613, 80021.96570062, 82844.99531416,\n",
       "       82769.65116919, 77805.17919225, 81695.72678283, 76736.46750992,\n",
       "       73997.67688935, 85190.05137487, 81985.5627575 , 82231.49206065,\n",
       "       85537.41033692, 85814.7706668 , 75201.01330858, 84381.13597021,\n",
       "       76492.81779956, 80681.35221768, 77188.14204737, 73070.396488  ,\n",
       "       80017.39751665, 80842.53922645, 85602.11164293, 73585.75638906,\n",
       "       78148.14516468, 86249.8842542 , 78843.19183041, 85468.8565723 ,\n",
       "       77580.2046259 , 82440.07827718, 82215.66549892, 73725.10126207,\n",
       "       76951.53459934, 77729.8621385 , 79760.00856335, 78682.44270766,\n",
       "       79373.84134443, 79654.29628029, 74971.57795229, 80761.69067954,\n",
       "       79939.83147862, 78602.9921949 , 83297.62636436, 79429.82896611,\n",
       "       76264.84951093, 74489.45359347, 78763.31607566, 78455.64592043,\n",
       "       78534.29792244, 71831.14475542, 79314.90653106, 77625.31671025,\n",
       "       77267.09301533, 80082.82358623, 80388.17923888, 73754.4409434 ,\n",
       "       77331.18598686, 78304.58686356, 75697.0654529 , 79462.15725521,\n",
       "       72437.7558947 , 79218.86602442, 76632.95218423, 82510.65192936,\n",
       "       76160.8384172 , 72737.9671127 , 79156.11993626, 84933.58203948,\n",
       "       76379.16204878, 83624.58524917, 77807.48668269, 79465.75617861,\n",
       "       79606.43777651, 75488.02371744, 84889.41865293, 79055.55445578,\n",
       "       85046.81335777, 78193.65697301, 75770.49069263, 75632.01264379,\n",
       "       72806.53239092, 82488.63586666, 79451.30584061, 85148.53239906,\n",
       "       80668.81923734, 77903.48990309, 77237.21687125, 80381.53318203,\n",
       "       83901.5102991 , 79012.19201741, 85163.81724588, 85966.26563635,\n",
       "       73367.35759566, 83626.13296843, 72672.13948896, 77206.15611422,\n",
       "       82776.35912015, 78968.21376411, 77066.32377991, 85062.36486932,\n",
       "       76506.01985985, 71339.99696785, 77953.63575344, 85770.46301264,\n",
       "       81702.01258879, 83853.73007795, 72835.20221158, 73069.75075356,\n",
       "       86260.26785905])"
      ]
     },
     "execution_count": 25,
     "metadata": {},
     "output_type": "execute_result"
    }
   ],
   "source": [
    "model_lr_2 = model.fit(x_train, y_train)\n",
    "\n",
    "pred = model_lr_2.predict(x_test)\n",
    "\n",
    "pred "
   ]
  },
  {
   "cell_type": "code",
   "execution_count": 26,
   "id": "3cfd27fa",
   "metadata": {},
   "outputs": [
    {
     "data": {
      "text/html": [
       "<div>\n",
       "<style scoped>\n",
       "    .dataframe tbody tr th:only-of-type {\n",
       "        vertical-align: middle;\n",
       "    }\n",
       "\n",
       "    .dataframe tbody tr th {\n",
       "        vertical-align: top;\n",
       "    }\n",
       "\n",
       "    .dataframe thead th {\n",
       "        text-align: right;\n",
       "    }\n",
       "</style>\n",
       "<table border=\"1\" class=\"dataframe\">\n",
       "  <thead>\n",
       "    <tr style=\"text-align: right;\">\n",
       "      <th></th>\n",
       "      <th>Obs</th>\n",
       "      <th>Pred</th>\n",
       "    </tr>\n",
       "  </thead>\n",
       "  <tbody>\n",
       "    <tr>\n",
       "      <th>434</th>\n",
       "      <td>75967.601562</td>\n",
       "      <td>79835.738408</td>\n",
       "    </tr>\n",
       "    <tr>\n",
       "      <th>440</th>\n",
       "      <td>77843.500000</td>\n",
       "      <td>80734.248878</td>\n",
       "    </tr>\n",
       "    <tr>\n",
       "      <th>6</th>\n",
       "      <td>87648.398438</td>\n",
       "      <td>85768.464141</td>\n",
       "    </tr>\n",
       "    <tr>\n",
       "      <th>184</th>\n",
       "      <td>74149.500000</td>\n",
       "      <td>74527.383319</td>\n",
       "    </tr>\n",
       "    <tr>\n",
       "      <th>78</th>\n",
       "      <td>84277.703125</td>\n",
       "      <td>82224.137264</td>\n",
       "    </tr>\n",
       "  </tbody>\n",
       "</table>\n",
       "</div>"
      ],
      "text/plain": [
       "              Obs          Pred\n",
       "434  75967.601562  79835.738408\n",
       "440  77843.500000  80734.248878\n",
       "6    87648.398438  85768.464141\n",
       "184  74149.500000  74527.383319\n",
       "78   84277.703125  82224.137264"
      ]
     },
     "execution_count": 26,
     "metadata": {},
     "output_type": "execute_result"
    }
   ],
   "source": [
    "comp_data = pd.DataFrame({\"Obs\": y_test, \"Pred\": pred})\n",
    "\n",
    "comp_data.head()"
   ]
  },
  {
   "cell_type": "markdown",
   "id": "f0bbf0fc",
   "metadata": {},
   "source": [
    "Aşağıdaki Boxplot'dan yani kutu grafiğinden de gözlemleneceği üzere, tahmin edilen değerler, gerçekleşen değerlere göre daha basıktır, yani tahmin edilen değerler, gerçekleşen değerlere göre daha küçük bir aralıkta dağılmıştır."
   ]
  },
  {
   "cell_type": "code",
   "execution_count": 27,
   "id": "64b5a97a",
   "metadata": {},
   "outputs": [
    {
     "data": {
      "text/plain": [
       "<Axes: >"
      ]
     },
     "execution_count": 27,
     "metadata": {},
     "output_type": "execute_result"
    },
    {
     "data": {
      "image/png": "[encoded data removed]",
      "text/plain": [
       "<Figure size 640x480 with 1 Axes>"
      ]
     },
     "metadata": {},
     "output_type": "display_data"
    }
   ],
   "source": [
    "comp_data.boxplot(column = [\"Obs\", \"Pred\"])"
   ]
  },
  {
   "cell_type": "markdown",
   "id": "6cd3636f",
   "metadata": {},
   "source": [
    "Gerçek gözlem değerlerinden, tahmin edilen değerleri çıkararak **hata (error)** değerlerine ulaşıyoruz."
   ]
  },
  {
   "cell_type": "code",
   "execution_count": 28,
   "id": "ed00ec5b",
   "metadata": {},
   "outputs": [
    {
     "data": {
      "text/html": [
       "<div>\n",
       "<style scoped>\n",
       "    .dataframe tbody tr th:only-of-type {\n",
       "        vertical-align: middle;\n",
       "    }\n",
       "\n",
       "    .dataframe tbody tr th {\n",
       "        vertical-align: top;\n",
       "    }\n",
       "\n",
       "    .dataframe thead th {\n",
       "        text-align: right;\n",
       "    }\n",
       "</style>\n",
       "<table border=\"1\" class=\"dataframe\">\n",
       "  <thead>\n",
       "    <tr style=\"text-align: right;\">\n",
       "      <th></th>\n",
       "      <th>Obs</th>\n",
       "      <th>Pred</th>\n",
       "      <th>Error</th>\n",
       "    </tr>\n",
       "  </thead>\n",
       "  <tbody>\n",
       "    <tr>\n",
       "      <th>434</th>\n",
       "      <td>75967.601562</td>\n",
       "      <td>79835.738408</td>\n",
       "      <td>-3868.136846</td>\n",
       "    </tr>\n",
       "    <tr>\n",
       "      <th>440</th>\n",
       "      <td>77843.500000</td>\n",
       "      <td>80734.248878</td>\n",
       "      <td>-2890.748878</td>\n",
       "    </tr>\n",
       "    <tr>\n",
       "      <th>6</th>\n",
       "      <td>87648.398438</td>\n",
       "      <td>85768.464141</td>\n",
       "      <td>1879.934297</td>\n",
       "    </tr>\n",
       "    <tr>\n",
       "      <th>184</th>\n",
       "      <td>74149.500000</td>\n",
       "      <td>74527.383319</td>\n",
       "      <td>-377.883319</td>\n",
       "    </tr>\n",
       "    <tr>\n",
       "      <th>78</th>\n",
       "      <td>84277.703125</td>\n",
       "      <td>82224.137264</td>\n",
       "      <td>2053.565861</td>\n",
       "    </tr>\n",
       "  </tbody>\n",
       "</table>\n",
       "</div>"
      ],
      "text/plain": [
       "              Obs          Pred        Error\n",
       "434  75967.601562  79835.738408 -3868.136846\n",
       "440  77843.500000  80734.248878 -2890.748878\n",
       "6    87648.398438  85768.464141  1879.934297\n",
       "184  74149.500000  74527.383319  -377.883319\n",
       "78   84277.703125  82224.137264  2053.565861"
      ]
     },
     "execution_count": 28,
     "metadata": {},
     "output_type": "execute_result"
    }
   ],
   "source": [
    "comp_data[\"Error\"] = comp_data[\"Obs\"] - comp_data[\"Pred\"]\n",
    "\n",
    "comp_data.head()"
   ]
  },
  {
   "cell_type": "code",
   "execution_count": 29,
   "id": "e1d90880",
   "metadata": {},
   "outputs": [
    {
     "data": {
      "text/plain": [
       "-1205.3238414280495"
      ]
     },
     "execution_count": 29,
     "metadata": {},
     "output_type": "execute_result"
    }
   ],
   "source": [
    "# Data içerisindeki en kötü %25'lik hata değerine ulaşmak istersek:\n",
    "\n",
    "np.percentile(comp_data[\"Error\"], 25)"
   ]
  },
  {
   "cell_type": "code",
   "execution_count": 30,
   "id": "2dcd6e85",
   "metadata": {},
   "outputs": [],
   "source": [
    "lower = np.percentile(comp_data[\"Error\"], 10)\n",
    "\n",
    "upper = np.percentile(comp_data[\"Error\"], 90)"
   ]
  },
  {
   "cell_type": "code",
   "execution_count": 31,
   "id": "450f7c47",
   "metadata": {},
   "outputs": [],
   "source": [
    "comp_data[\"Error_Class\"] = [2 if v > upper else 1 if v < lower else 0 for v in comp_data[\"Error\"]]"
   ]
  },
  {
   "cell_type": "code",
   "execution_count": 32,
   "id": "076f3992",
   "metadata": {},
   "outputs": [
    {
     "data": {
      "image/png": "[encoded data removed]",
      "text/plain": [
       "<Figure size 700x400 with 1 Axes>"
      ]
     },
     "metadata": {},
     "output_type": "display_data"
    }
   ],
   "source": [
    "# Error_Class sütunu kategorik bir değişkene dönüştürüldü.\n",
    "\n",
    "comp_data[\"Error_Class\"] = pd.Categorical(comp_data[\"Error_Class\"])\n",
    "\n",
    "plt.figure(figsize = (7, 4))\n",
    "sns.scatterplot(data = comp_data, x = \"Obs\", y = \"Pred\", hue = \"Error_Class\", palette = \"rocket\")\n",
    "plt.xlabel(\"Observed\")\n",
    "plt.ylabel(\"Predicted\")\n",
    "plt.title(\"Scatter Plot with Error Class\")\n",
    "plt.legend(title = \"Error Class\")\n",
    "\n",
    "plt.show()"
   ]
  },
  {
   "cell_type": "code",
   "execution_count": 33,
   "id": "5c4aaf53",
   "metadata": {},
   "outputs": [
    {
     "data": {
      "text/html": [
       "<div>\n",
       "<style scoped>\n",
       "    .dataframe tbody tr th:only-of-type {\n",
       "        vertical-align: middle;\n",
       "    }\n",
       "\n",
       "    .dataframe tbody tr th {\n",
       "        vertical-align: top;\n",
       "    }\n",
       "\n",
       "    .dataframe thead th {\n",
       "        text-align: right;\n",
       "    }\n",
       "</style>\n",
       "<table border=\"1\" class=\"dataframe\">\n",
       "  <thead>\n",
       "    <tr style=\"text-align: right;\">\n",
       "      <th>Ticker</th>\n",
       "      <th>USD_TRY</th>\n",
       "      <th>DAX</th>\n",
       "      <th>GOLD</th>\n",
       "      <th>SP500</th>\n",
       "    </tr>\n",
       "  </thead>\n",
       "  <tbody>\n",
       "    <tr>\n",
       "      <th>0</th>\n",
       "      <td>2.33116</td>\n",
       "      <td>26.163000</td>\n",
       "      <td>1186.000000</td>\n",
       "      <td>2058.199951</td>\n",
       "    </tr>\n",
       "    <tr>\n",
       "      <th>1</th>\n",
       "      <td>2.33098</td>\n",
       "      <td>26.163000</td>\n",
       "      <td>1186.000000</td>\n",
       "      <td>2058.199951</td>\n",
       "    </tr>\n",
       "    <tr>\n",
       "      <th>2</th>\n",
       "      <td>2.34224</td>\n",
       "      <td>24.879999</td>\n",
       "      <td>1203.900024</td>\n",
       "      <td>2020.579956</td>\n",
       "    </tr>\n",
       "    <tr>\n",
       "      <th>3</th>\n",
       "      <td>2.33075</td>\n",
       "      <td>24.879999</td>\n",
       "      <td>1219.300049</td>\n",
       "      <td>2002.609985</td>\n",
       "    </tr>\n",
       "    <tr>\n",
       "      <th>4</th>\n",
       "      <td>2.32361</td>\n",
       "      <td>24.879999</td>\n",
       "      <td>1210.599976</td>\n",
       "      <td>2025.900024</td>\n",
       "    </tr>\n",
       "  </tbody>\n",
       "</table>\n",
       "</div>"
      ],
      "text/plain": [
       "Ticker  USD_TRY        DAX         GOLD        SP500\n",
       "0       2.33116  26.163000  1186.000000  2058.199951\n",
       "1       2.33098  26.163000  1186.000000  2058.199951\n",
       "2       2.34224  24.879999  1203.900024  2020.579956\n",
       "3       2.33075  24.879999  1219.300049  2002.609985\n",
       "4       2.32361  24.879999  1210.599976  2025.900024"
      ]
     },
     "execution_count": 33,
     "metadata": {},
     "output_type": "execute_result"
    }
   ],
   "source": [
    "x.head()"
   ]
  },
  {
   "cell_type": "code",
   "execution_count": 34,
   "id": "9d726ec6",
   "metadata": {},
   "outputs": [
    {
     "data": {
      "text/html": [
       "<div>\n",
       "<style scoped>\n",
       "    .dataframe tbody tr th:only-of-type {\n",
       "        vertical-align: middle;\n",
       "    }\n",
       "\n",
       "    .dataframe tbody tr th {\n",
       "        vertical-align: top;\n",
       "    }\n",
       "\n",
       "    .dataframe thead th {\n",
       "        text-align: right;\n",
       "    }\n",
       "</style>\n",
       "<table border=\"1\" class=\"dataframe\">\n",
       "  <thead>\n",
       "    <tr style=\"text-align: right;\">\n",
       "      <th>Ticker</th>\n",
       "      <th>USD_TRY</th>\n",
       "      <th>DAX</th>\n",
       "      <th>GOLD</th>\n",
       "      <th>SP500</th>\n",
       "    </tr>\n",
       "  </thead>\n",
       "  <tbody>\n",
       "    <tr>\n",
       "      <th>0</th>\n",
       "      <td>NaN</td>\n",
       "      <td>NaN</td>\n",
       "      <td>NaN</td>\n",
       "      <td>NaN</td>\n",
       "    </tr>\n",
       "    <tr>\n",
       "      <th>1</th>\n",
       "      <td>-0.00018</td>\n",
       "      <td>0.000000</td>\n",
       "      <td>0.000000</td>\n",
       "      <td>0.000000</td>\n",
       "    </tr>\n",
       "    <tr>\n",
       "      <th>2</th>\n",
       "      <td>0.01126</td>\n",
       "      <td>-1.283001</td>\n",
       "      <td>17.900024</td>\n",
       "      <td>-37.619995</td>\n",
       "    </tr>\n",
       "    <tr>\n",
       "      <th>3</th>\n",
       "      <td>-0.01149</td>\n",
       "      <td>0.000000</td>\n",
       "      <td>15.400024</td>\n",
       "      <td>-17.969971</td>\n",
       "    </tr>\n",
       "    <tr>\n",
       "      <th>4</th>\n",
       "      <td>-0.00714</td>\n",
       "      <td>0.000000</td>\n",
       "      <td>-8.700073</td>\n",
       "      <td>23.290039</td>\n",
       "    </tr>\n",
       "  </tbody>\n",
       "</table>\n",
       "</div>"
      ],
      "text/plain": [
       "Ticker  USD_TRY       DAX       GOLD      SP500\n",
       "0           NaN       NaN        NaN        NaN\n",
       "1      -0.00018  0.000000   0.000000   0.000000\n",
       "2       0.01126 -1.283001  17.900024 -37.619995\n",
       "3      -0.01149  0.000000  15.400024 -17.969971\n",
       "4      -0.00714  0.000000  -8.700073  23.290039"
      ]
     },
     "execution_count": 34,
     "metadata": {},
     "output_type": "execute_result"
    }
   ],
   "source": [
    "# veriyi normalize etmek veya durağan hale getirmek için fark alma yani diff() işlemi yapıyoruz.\n",
    "\n",
    "x.diff().head() "
   ]
  },
  {
   "cell_type": "code",
   "execution_count": 35,
   "id": "3da4ed10",
   "metadata": {},
   "outputs": [],
   "source": [
    "x_d = x.diff().dropna()\n",
    "y_d = y.diff().dropna()"
   ]
  },
  {
   "cell_type": "code",
   "execution_count": 36,
   "id": "778a48e6",
   "metadata": {},
   "outputs": [],
   "source": [
    "x_train, x_test, y_train, y_test = train_test_split(x_d, y_d, test_size = 0.33, random_state = 42)"
   ]
  },
  {
   "cell_type": "code",
   "execution_count": 37,
   "id": "50b27545",
   "metadata": {},
   "outputs": [],
   "source": [
    "model_d = LinearRegression()"
   ]
  },
  {
   "cell_type": "code",
   "execution_count": 38,
   "id": "4c97ebf7",
   "metadata": {},
   "outputs": [],
   "source": [
    "model_lr_d = model_d.fit(x_train, y_train)\n",
    "pred_d = model_lr_d.predict(x_test)"
   ]
  },
  {
   "cell_type": "code",
   "execution_count": 39,
   "id": "be527956",
   "metadata": {},
   "outputs": [
    {
     "data": {
      "text/html": [
       "<div>\n",
       "<style scoped>\n",
       "    .dataframe tbody tr th:only-of-type {\n",
       "        vertical-align: middle;\n",
       "    }\n",
       "\n",
       "    .dataframe tbody tr th {\n",
       "        vertical-align: top;\n",
       "    }\n",
       "\n",
       "    .dataframe thead th {\n",
       "        text-align: right;\n",
       "    }\n",
       "</style>\n",
       "<table border=\"1\" class=\"dataframe\">\n",
       "  <thead>\n",
       "    <tr style=\"text-align: right;\">\n",
       "      <th></th>\n",
       "      <th>Obs_d</th>\n",
       "      <th>Pred_d</th>\n",
       "    </tr>\n",
       "  </thead>\n",
       "  <tbody>\n",
       "    <tr>\n",
       "      <th>508</th>\n",
       "      <td>755.695312</td>\n",
       "      <td>749.072150</td>\n",
       "    </tr>\n",
       "    <tr>\n",
       "      <th>94</th>\n",
       "      <td>1054.000000</td>\n",
       "      <td>401.172449</td>\n",
       "    </tr>\n",
       "    <tr>\n",
       "      <th>7</th>\n",
       "      <td>216.304688</td>\n",
       "      <td>-37.328084</td>\n",
       "    </tr>\n",
       "    <tr>\n",
       "      <th>246</th>\n",
       "      <td>-2073.906250</td>\n",
       "      <td>-661.044729</td>\n",
       "    </tr>\n",
       "    <tr>\n",
       "      <th>91</th>\n",
       "      <td>1489.695312</td>\n",
       "      <td>822.385005</td>\n",
       "    </tr>\n",
       "  </tbody>\n",
       "</table>\n",
       "</div>"
      ],
      "text/plain": [
       "           Obs_d      Pred_d\n",
       "508   755.695312  749.072150\n",
       "94   1054.000000  401.172449\n",
       "7     216.304688  -37.328084\n",
       "246 -2073.906250 -661.044729\n",
       "91   1489.695312  822.385005"
      ]
     },
     "execution_count": 39,
     "metadata": {},
     "output_type": "execute_result"
    }
   ],
   "source": [
    "comp_data_d = pd.DataFrame({\"Obs_d\": y_test, \"Pred_d\": pred_d})\n",
    "\n",
    "comp_data_d.head()"
   ]
  },
  {
   "cell_type": "code",
   "execution_count": 40,
   "id": "b3121e6c",
   "metadata": {},
   "outputs": [
    {
     "data": {
      "text/html": [
       "<div>\n",
       "<style scoped>\n",
       "    .dataframe tbody tr th:only-of-type {\n",
       "        vertical-align: middle;\n",
       "    }\n",
       "\n",
       "    .dataframe tbody tr th {\n",
       "        vertical-align: top;\n",
       "    }\n",
       "\n",
       "    .dataframe thead th {\n",
       "        text-align: right;\n",
       "    }\n",
       "</style>\n",
       "<table border=\"1\" class=\"dataframe\">\n",
       "  <thead>\n",
       "    <tr style=\"text-align: right;\">\n",
       "      <th></th>\n",
       "      <th>Obs_d</th>\n",
       "      <th>Pred_d</th>\n",
       "      <th>Error_d</th>\n",
       "    </tr>\n",
       "  </thead>\n",
       "  <tbody>\n",
       "    <tr>\n",
       "      <th>508</th>\n",
       "      <td>755.695312</td>\n",
       "      <td>749.072150</td>\n",
       "      <td>6.623162</td>\n",
       "    </tr>\n",
       "    <tr>\n",
       "      <th>94</th>\n",
       "      <td>1054.000000</td>\n",
       "      <td>401.172449</td>\n",
       "      <td>652.827551</td>\n",
       "    </tr>\n",
       "    <tr>\n",
       "      <th>7</th>\n",
       "      <td>216.304688</td>\n",
       "      <td>-37.328084</td>\n",
       "      <td>253.632772</td>\n",
       "    </tr>\n",
       "    <tr>\n",
       "      <th>246</th>\n",
       "      <td>-2073.906250</td>\n",
       "      <td>-661.044729</td>\n",
       "      <td>-1412.861521</td>\n",
       "    </tr>\n",
       "    <tr>\n",
       "      <th>91</th>\n",
       "      <td>1489.695312</td>\n",
       "      <td>822.385005</td>\n",
       "      <td>667.310308</td>\n",
       "    </tr>\n",
       "  </tbody>\n",
       "</table>\n",
       "</div>"
      ],
      "text/plain": [
       "           Obs_d      Pred_d      Error_d\n",
       "508   755.695312  749.072150     6.623162\n",
       "94   1054.000000  401.172449   652.827551\n",
       "7     216.304688  -37.328084   253.632772\n",
       "246 -2073.906250 -661.044729 -1412.861521\n",
       "91   1489.695312  822.385005   667.310308"
      ]
     },
     "execution_count": 40,
     "metadata": {},
     "output_type": "execute_result"
    }
   ],
   "source": [
    "comp_data_d[\"Error_d\"] = comp_data_d[\"Obs_d\"] - comp_data_d[\"Pred_d\"]\n",
    "\n",
    "comp_data_d.head()"
   ]
  },
  {
   "cell_type": "code",
   "execution_count": 41,
   "id": "c3b78e9d",
   "metadata": {},
   "outputs": [],
   "source": [
    "lower_d = np.percentile(comp_data_d[\"Error_d\"], 10)\n",
    "\n",
    "upper_d = np.percentile(comp_data_d[\"Error_d\"], 90)"
   ]
  },
  {
   "cell_type": "code",
   "execution_count": 42,
   "id": "ee5cfda1",
   "metadata": {},
   "outputs": [
    {
     "data": {
      "text/plain": [
       "(-1239.3972470061808, 1140.5890443289268)"
      ]
     },
     "execution_count": 42,
     "metadata": {},
     "output_type": "execute_result"
    }
   ],
   "source": [
    "(lower_d, upper_d)"
   ]
  },
  {
   "cell_type": "code",
   "execution_count": 43,
   "id": "2b554d3c",
   "metadata": {},
   "outputs": [],
   "source": [
    "comp_data_d[\"Error_Class_d\"] = [2 if v > upper_d else 1 if v < lower_d else 0 for v in comp_data_d[\"Error_d\"]]"
   ]
  },
  {
   "cell_type": "code",
   "execution_count": 44,
   "id": "c34908bc",
   "metadata": {},
   "outputs": [
    {
     "data": {
      "image/png": "[encoded data removed]",
      "text/plain": [
       "<Figure size 700x400 with 1 Axes>"
      ]
     },
     "metadata": {},
     "output_type": "display_data"
    }
   ],
   "source": [
    "# Error_Class_d sütunu kategorik bir değişkene dönüştürüldü.\n",
    "\n",
    "comp_data_d[\"Error_Class_d\"] = pd.Categorical(comp_data_d[\"Error_Class_d\"])\n",
    "\n",
    "plt.figure(figsize = (7, 4))\n",
    "sns.scatterplot(data = comp_data_d, x = \"Obs_d\", y = \"Pred_d\", hue = \"Error_Class_d\", palette = \"rocket\")\n",
    "plt.xlabel(\"Observed\")\n",
    "plt.ylabel(\"Predicted\")\n",
    "plt.title(\"Scatter Plot with Error Class\")\n",
    "plt.legend(title = \"Error Class\")\n",
    "\n",
    "plt.show()"
   ]
  },
  {
   "cell_type": "code",
   "execution_count": 45,
   "id": "43932c87",
   "metadata": {},
   "outputs": [],
   "source": [
    "def OLS_assumption_controller(model, x_train_data, y_train_data):\n",
    "    \n",
    "    yhat = model.predict(x_train_data)\n",
    "    df = pd.DataFrame({\"Actual\": y_train_data, \"Predicted\": yhat})\n",
    "    df[\"Residuals\"] = abs(df[\"Actual\"]) - abs(df[\"Predicted\"])\n",
    "    \n",
    "    print(\"Anderson Darling Normality Test -------------------\")\n",
    "    p_norm = normal_ad(df[\"Residuals\"])[1]\n",
    "    if p_norm < 0.05:\n",
    "        print(colored(\"Residuals are not normally distributed\", \"red\", attrs = [\"bold\"]))\n",
    "    else:\n",
    "        print(colored(\"Residuals are normally distributed\", \"green\", attrs = [\"bold\"]))\n",
    "    print(\"\\n\")\n",
    "    \n",
    "    \n",
    "    print(\"Variance Inflation Factor for Multicollinearity Test -----\")\n",
    "    \n",
    "    VIF = [variance_inflation_factor(x_train_data.values, i) for i in range(x_train_data.shape[1])]\n",
    "    \n",
    "    for idx, vif in enumerate(VIF):\n",
    "        if vif < 10:\n",
    "            print(colored(\"{0}: {1}\".format(x_train_data.columns[idx], vif), \"green\", attrs = [\"bold\"]))\n",
    "        else:\n",
    "            print(colored(\"{0}: {1}\".format(x_train_data.columns[idx], vif), \"red\", attrs = [\"bold\"]))\n",
    "    \n",
    "    print(\"\\n\")\n",
    "    \n",
    "    print(\"Durbin Watson Autocorrelation Test -----------------\")\n",
    "    \n",
    "    durbinWatson = durbin_watson(df[\"Residuals\"])\n",
    "    \n",
    "    if 1.5 < durbinWatson < 2.5:\n",
    "        print(colored(\"There is no autocorrelation in the resiuals\", \"green\", attrs = [\"bold\"]))\n",
    "    else:\n",
    "        print(colored(\"There is an autocorrelation in the resiuals\", \"red\", attrs = [\"bold\"]))\n",
    "              \n",
    "    print(\"\\n\")\n",
    "              \n",
    "    \n",
    "    print(\"Breusch-Pagan Heteroskedasticity Test ----------\")\n",
    "    bp_test = het_breuschpagan(df[\"Residuals\"], x_train_data)\n",
    "    if bp_test[1] < 0.05:\n",
    "        print(colored(\"The model is heteroskedastic.\", \"red\", attrs = [\"bold\"]))\n",
    "    else:\n",
    "        print(colored(\"The model is not heteroskedastic.\", \"green\", attrs = [\"bold\"]))\n"
   ]
  },
  {
   "cell_type": "code",
   "execution_count": 46,
   "id": "32ea94ee",
   "metadata": {},
   "outputs": [
    {
     "name": "stdout",
     "output_type": "stream",
     "text": [
      "Anderson Darling Normality Test -------------------\n",
      "\u001b[1m\u001b[31mResiduals are not normally distributed\u001b[0m\n",
      "\n",
      "\n",
      "Variance Inflation Factor for Multicollinearity Test -----\n",
      "\u001b[1m\u001b[32mUSD_TRY: 1.0231515544115606\u001b[0m\n",
      "\u001b[1m\u001b[32mDAX: 1.9844751889753196\u001b[0m\n",
      "\u001b[1m\u001b[32mGOLD: 1.0576095946671757\u001b[0m\n",
      "\u001b[1m\u001b[32mSP500: 1.9761277786538196\u001b[0m\n",
      "\n",
      "\n",
      "Durbin Watson Autocorrelation Test -----------------\n",
      "\u001b[1m\u001b[31mThere is an autocorrelation in the resiuals\u001b[0m\n",
      "\n",
      "\n",
      "Breusch-Pagan Heteroskedasticity Test ----------\n",
      "\u001b[1m\u001b[32mThe model is not heteroskedastic.\u001b[0m\n"
     ]
    }
   ],
   "source": [
    "OLS_assumption_controller(model_lr_2, x_train, y_train)"
   ]
  },
  {
   "cell_type": "markdown",
   "id": "7fbdb545",
   "metadata": {},
   "source": [
    "#### KAYNAKLAR\n",
    "\n",
    "[1] Mustafa Nayansak, Veri Bilimi Okulu, Python ile Finansal Veri Analizi:"
   ]
  },
  {
   "cell_type": "code",
   "execution_count": null,
   "id": "dc687a02",
   "metadata": {},
   "outputs": [],
   "source": []
  }
 ],
 "metadata": {
  "kernelspec": {
   "display_name": "Python 3 (ipykernel)",
   "language": "python",
   "name": "python3"
  },
  "language_info": {
   "codemirror_mode": {
    "name": "ipython",
    "version": 3
   },
   "file_extension": ".py",
   "mimetype": "text/x-python",
   "name": "python",
   "nbconvert_exporter": "python",
   "pygments_lexer": "ipython3",
   "version": "3.11.3"
  }
 },
 "nbformat": 4,
 "nbformat_minor": 5
}
